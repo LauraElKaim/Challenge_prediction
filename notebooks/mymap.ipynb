{
 "cells": [
  {
   "cell_type": "markdown",
   "metadata": {},
   "source": [
    "# Visualization\n",
    "\n",
    "Here is the median number of bicycle passages in the different eco-counters of Montpellier during the year 2020.  \n",
    "The radius of the circles are proportional to the median number of each eco-counter."
   ]
  },
  {
   "cell_type": "code",
   "execution_count": null,
   "metadata": {},
   "outputs": [],
   "source": [
    "import folium\n",
    "map_mtp = folium.Map(location=[43.6, 3.8833], zoom_start = 11.5)\n",
    "folium.CircleMarker([43.60969924926758, 3.896939992904663], popup=\"Berracasa <br> Median=1058\", color='tomato', fill_color='tomato', radius=24.2).add_to(map_mtp)\n",
    "folium.CircleMarker([43.5907, 3.81324], popup=\"Laverune <br> Median=225\", color='tomato', fill_color='tomato', radius=5.1).add_to(map_mtp)\n",
    "folium.CircleMarker([43.61465, 3.8336], popup=\"Celleneuve <br> Median=578 \", color='tomato', fill_color='tomato', radius=13.2).add_to(map_mtp)\n",
    "folium.CircleMarker([43.57926, 3.93327], popup=\"Lattes 2 <br> Median=97\", color='tomato', fill_color='tomato', radius=2.2).add_to(map_mtp)\n",
    "folium.CircleMarker([43.57883, 3.93324], popup=\"Lattes 1 <br> Median=505\", color='tomato', fill_color='tomato', radius=11.5).add_to(map_mtp)\n",
    "folium.CircleMarker([43.6157418, 3.9096322], popup=\"Vieille Poste <br> Median=196 \", color='tomato', fill_color='tomato', radius=4.5).add_to(map_mtp)\n",
    "folium.CircleMarker([43.6138841, 3.8684671], popup=\"Gerhardt <br> Median=881\", color='tomato', fill_color='tomato', radius=20.1).add_to(map_mtp)\n",
    "folium.CircleMarker([43.6266977, 3.8956288], popup=\"Delmas 1 <br> Median=566\", color='tomato', fill_color='tomato', radius=13).add_to(map_mtp)\n",
    "folium.CircleMarker([43.6266977, 3.8956288], popup=\"Delmas 2 <br> Median=75\", color='tomato', fill_color='tomato', radius=1.7).add_to(map_mtp)\n",
    "folium.CircleMarker([43.61620945549243, 3.874408006668091], popup=\"Albert 1er <br> Median=1094\", color='tomato', fill_color='tomato', radius=25).add_to(map_mtp)\n",
    "map_mt"
   ]
  }
 ],
 "metadata": {
  "kernelspec": {
   "display_name": "Python 3",
   "language": "python",
   "name": "python3"
  },
  "language_info": {
   "codemirror_mode": {
    "name": "ipython",
    "version": 3
   },
   "file_extension": ".py",
   "mimetype": "text/x-python",
   "name": "python",
   "nbconvert_exporter": "python",
   "pygments_lexer": "ipython3",
   "version": "3.8.5"
  }
 },
 "nbformat": 4,
 "nbformat_minor": 4
}
